{
 "cells": [
  {
   "cell_type": "code",
   "execution_count": 1,
   "metadata": {},
   "outputs": [],
   "source": [
    "# Import needed package\n",
    "import pycodestyle"
   ]
  },
  {
   "cell_type": "code",
   "execution_count": 2,
   "metadata": {},
   "outputs": [],
   "source": [
    "# Create an instance of StyleGuide\n",
    "style_checker = pycodestyle.StyleGuide()"
   ]
  },
  {
   "cell_type": "code",
   "execution_count": 3,
   "metadata": {},
   "outputs": [
    {
     "name": "stdout",
     "output_type": "stream",
     "text": [
      "nay_pep8.py:1:1: E265 block comment should start with '# '\n",
      "nay_pep8.py:2:6: E225 missing whitespace around operator\n",
      "nay_pep8.py:4:2: E131 continuation line unaligned for hanging indent\n",
      "nay_pep8.py:5:6: E131 continuation line unaligned for hanging indent\n",
      "nay_pep8.py:6:1: E122 continuation line missing indentation or outdented\n",
      "nay_pep8.py:7:1: E265 block comment should start with '# '\n",
      "nay_pep8.py:8:1: E402 module level import not at top of file\n",
      "nay_pep8.py:9:1: E265 block comment should start with '# '\n",
      "nay_pep8.py:10:1: E302 expected 2 blank lines, found 0\n",
      "nay_pep8.py:10:18: E231 missing whitespace after ','\n",
      "nay_pep8.py:11:2: E111 indentation is not a multiple of four\n",
      "nay_pep8.py:12:2: E111 indentation is not a multiple of four\n",
      "nay_pep8.py:14:1: E265 block comment should start with '# '\n",
      "nay_pep8.py:15:1: E305 expected 2 blank lines after class or function definition, found 1\n",
      "nay_pep8.py:16:11: E111 indentation is not a multiple of four\n",
      "nay_pep8.py:16:11: E117 over-indented\n",
      "nay_pep8.py:16:17: E225 missing whitespace around operator\n",
      "nay_pep8.py:16:32: E222 multiple spaces after operator\n",
      "nay_pep8.py:16:32: E251 unexpected spaces around keyword / parameter equals\n",
      "nay_pep8.py:16:38: E231 missing whitespace after ','\n",
      "nay_pep8.py:16:44: E221 multiple spaces before operator\n",
      "nay_pep8.py:16:44: E251 unexpected spaces around keyword / parameter equals\n",
      "nay_pep8.py:16:47: E251 unexpected spaces around keyword / parameter equals\n",
      "nay_pep8.py:17:11: E111 indentation is not a multiple of four\n",
      "nay_pep8.py:17:17: E201 whitespace after '('\n",
      "nay_pep8.py:17:25: E202 whitespace before ')'\n",
      "nay_pep8.py:17:27: W292 no newline at end of file\n"
     ]
    }
   ],
   "source": [
    "# Run PEP 8 check on multiple files\n",
    "result = style_checker.check_files(['nay_pep8.py', 'yay_pep8.py'])"
   ]
  },
  {
   "cell_type": "code",
   "execution_count": 4,
   "metadata": {},
   "outputs": [
    {
     "name": "stdout",
     "output_type": "stream",
     "text": [
      "{'E265': \"block comment should start with '# '\", 'E131': 'continuation line unaligned for hanging indent', 'E122': 'continuation line missing indentation or outdented', 'E225': 'missing whitespace around operator', 'E402': 'module level import not at top of file', 'E302': 'expected 2 blank lines, found 0', 'E231': \"missing whitespace after ','\", 'E111': 'indentation is not a multiple of four', 'E305': 'expected 2 blank lines after class or function definition, found 1', 'E117': 'over-indented', 'E251': 'unexpected spaces around keyword / parameter equals', 'E222': 'multiple spaces after operator', 'E221': 'multiple spaces before operator', 'W292': 'no newline at end of file', 'E201': \"whitespace after '('\", 'E202': \"whitespace before ')'\"}\n"
     ]
    }
   ],
   "source": [
    "# Print result of PEP 8 style check\n",
    "print(result.messages)"
   ]
  },
  {
   "cell_type": "code",
   "execution_count": null,
   "metadata": {},
   "outputs": [],
   "source": []
  }
 ],
 "metadata": {
  "kernelspec": {
   "display_name": "Python 3",
   "language": "python",
   "name": "python3"
  },
  "language_info": {
   "codemirror_mode": {
    "name": "ipython",
    "version": 3
   },
   "file_extension": ".py",
   "mimetype": "text/x-python",
   "name": "python",
   "nbconvert_exporter": "python",
   "pygments_lexer": "ipython3",
   "version": "3.7.3"
  }
 },
 "nbformat": 4,
 "nbformat_minor": 2
}

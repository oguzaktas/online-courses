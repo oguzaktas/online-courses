{
 "cells": [
  {
   "cell_type": "markdown",
   "metadata": {},
   "source": [
    "Instructions\n",
    "- Create an instance of StandardScaler called scaler.\n",
    "- Create a PCA instance called pca.\n",
    "- Use the make_pipeline() function to create a pipeline chaining scaler and pca.\n",
    "- Use the .fit() method of pipeline to fit it to the fish samples samples.\n",
    "- Extract the number of components used using the .n_components_ attribute of pca. Place this inside a range() function and store the result as features.\n",
    "- Use the plt.bar() function to plot the explained variances, with features on the x-axis and pca.explained_variance_ on the y-axis."
   ]
  },
  {
   "cell_type": "code",
   "execution_count": 1,
   "metadata": {},
   "outputs": [],
   "source": [
    "# Perform the necessary imports\n",
    "from sklearn.decomposition import PCA\n",
    "from sklearn.preprocessing import StandardScaler\n",
    "from sklearn.pipeline import make_pipeline\n",
    "import matplotlib.pyplot as plt"
   ]
  },
  {
   "cell_type": "code",
   "execution_count": 2,
   "metadata": {},
   "outputs": [],
   "source": [
    "# Create scaler: scaler\n",
    "scaler = StandardScaler()"
   ]
  },
  {
   "cell_type": "code",
   "execution_count": 3,
   "metadata": {},
   "outputs": [],
   "source": [
    "# Create a PCA instance: pca\n",
    "pca = PCA()"
   ]
  },
  {
   "cell_type": "code",
   "execution_count": 4,
   "metadata": {},
   "outputs": [],
   "source": [
    "# Create pipeline: pipeline\n",
    "pipeline = make_pipeline(scaler, pca)"
   ]
  },
  {
   "cell_type": "code",
   "execution_count": 5,
   "metadata": {},
   "outputs": [],
   "source": [
    "# Define samples which is preloaded in DataCamp exercise\n",
    "samples = [[ 242. ,   23.2,   25.4,   30. ,   38.4,   13.4],\n",
    "       [ 290. ,   24. ,   26.3,   31.2,   40. ,   13.8],\n",
    "       [ 340. ,   23.9,   26.5,   31.1,   39.8,   15.1],\n",
    "       [ 363. ,   26.3,   29. ,   33.5,   38. ,   13.3],\n",
    "       [ 430. ,   26.5,   29. ,   34. ,   36.6,   15.1],\n",
    "       [ 450. ,   26.8,   29.7,   34.7,   39.2,   14.2],\n",
    "       [ 500. ,   26.8,   29.7,   34.5,   41.1,   15.3],\n",
    "       [ 390. ,   27.6,   30. ,   35. ,   36.2,   13.4],\n",
    "       [ 450. ,   27.6,   30. ,   35.1,   39.9,   13.8],\n",
    "       [ 500. ,   28.5,   30.7,   36.2,   39.3,   13.7],\n",
    "       [ 475. ,   28.4,   31. ,   36.2,   39.4,   14.1],\n",
    "       [ 500. ,   28.7,   31. ,   36.2,   39.7,   13.3],\n",
    "       [ 500. ,   29.1,   31.5,   36.4,   37.8,   12. ],\n",
    "       [ 600. ,   29.4,   32. ,   37.2,   40.2,   13.9],\n",
    "       [ 600. ,   29.4,   32. ,   37.2,   41.5,   15. ],\n",
    "       [ 700. ,   30.4,   33. ,   38.3,   38.8,   13.8],\n",
    "       [ 700. ,   30.4,   33. ,   38.5,   38.8,   13.5],\n",
    "       [ 610. ,   30.9,   33.5,   38.6,   40.5,   13.3],\n",
    "       [ 650. ,   31. ,   33.5,   38.7,   37.4,   14.8],\n",
    "       [ 575. ,   31.3,   34. ,   39.5,   38.3,   14.1],\n",
    "       [ 685. ,   31.4,   34. ,   39.2,   40.8,   13.7],\n",
    "       [ 620. ,   31.5,   34.5,   39.7,   39.1,   13.3],\n",
    "       [ 680. ,   31.8,   35. ,   40.6,   38.1,   15.1],\n",
    "       [ 700. ,   31.9,   35. ,   40.5,   40.1,   13.8],\n",
    "       [ 725. ,   31.8,   35. ,   40.9,   40. ,   14.8],\n",
    "       [ 720. ,   32. ,   35. ,   40.6,   40.3,   15. ],\n",
    "       [ 714. ,   32.7,   36. ,   41.5,   39.8,   14.1],\n",
    "       [ 850. ,   32.8,   36. ,   41.6,   40.6,   14.9],\n",
    "       [1000. ,   33.5,   37. ,   42.6,   44.5,   15.5],\n",
    "       [ 920. ,   35. ,   38.5,   44.1,   40.9,   14.3],\n",
    "       [ 955. ,   35. ,   38.5,   44. ,   41.1,   14.3],\n",
    "       [ 925. ,   36.2,   39.5,   45.3,   41.4,   14.9],\n",
    "       [ 975. ,   37.4,   41. ,   45.9,   40.6,   14.7],\n",
    "       [ 950. ,   38. ,   41. ,   46.5,   37.9,   13.7],\n",
    "       [  40. ,   12.9,   14.1,   16.2,   25.6,   14. ],\n",
    "       [  69. ,   16.5,   18.2,   20.3,   26.1,   13.9],\n",
    "       [  78. ,   17.5,   18.8,   21.2,   26.3,   13.7],\n",
    "       [  87. ,   18.2,   19.8,   22.2,   25.3,   14.3],\n",
    "       [ 120. ,   18.6,   20. ,   22.2,   28. ,   16.1],\n",
    "       [   0. ,   19. ,   20.5,   22.8,   28.4,   14.7],\n",
    "       [ 110. ,   19.1,   20.8,   23.1,   26.7,   14.7],\n",
    "       [ 120. ,   19.4,   21. ,   23.7,   25.8,   13.9],\n",
    "       [ 150. ,   20.4,   22. ,   24.7,   23.5,   15.2],\n",
    "       [ 145. ,   20.5,   22. ,   24.3,   27.3,   14.6],\n",
    "       [ 160. ,   20.5,   22.5,   25.3,   27.8,   15.1],\n",
    "       [ 140. ,   21. ,   22.5,   25. ,   26.2,   13.3],\n",
    "       [ 160. ,   21.1,   22.5,   25. ,   25.6,   15.2],\n",
    "       [ 169. ,   22. ,   24. ,   27.2,   27.7,   14.1],\n",
    "       [ 161. ,   22. ,   23.4,   26.7,   25.9,   13.6],\n",
    "       [ 200. ,   22.1,   23.5,   26.8,   27.6,   15.4],\n",
    "       [ 180. ,   23.6,   25.2,   27.9,   25.4,   14. ],\n",
    "       [ 290. ,   24. ,   26. ,   29.2,   30.4,   15.4],\n",
    "       [ 272. ,   25. ,   27. ,   30.6,   28. ,   15.6],\n",
    "       [ 390. ,   29.5,   31.7,   35. ,   27.1,   15.3],\n",
    "       [   6.7,    9.3,    9.8,   10.8,   16.1,    9.7],\n",
    "       [   7.5,   10. ,   10.5,   11.6,   17. ,   10. ],\n",
    "       [   7. ,   10.1,   10.6,   11.6,   14.9,    9.9],\n",
    "       [   9.7,   10.4,   11. ,   12. ,   18.3,   11.5],\n",
    "       [   9.8,   10.7,   11.2,   12.4,   16.8,   10.3],\n",
    "       [   8.7,   10.8,   11.3,   12.6,   15.7,   10.2],\n",
    "       [  10. ,   11.3,   11.8,   13.1,   16.9,    9.8],\n",
    "       [   9.9,   11.3,   11.8,   13.1,   16.9,    8.9],\n",
    "       [   9.8,   11.4,   12. ,   13.2,   16.7,    8.7],\n",
    "       [  12.2,   11.5,   12.2,   13.4,   15.6,   10.4],\n",
    "       [  13.4,   11.7,   12.4,   13.5,   18. ,    9.4],\n",
    "       [  12.2,   12.1,   13. ,   13.8,   16.5,    9.1],\n",
    "       [  19.7,   13.2,   14.3,   15.2,   18.9,   13.6],\n",
    "       [  19.9,   13.8,   15. ,   16.2,   18.1,   11.6],\n",
    "       [ 200. ,   30. ,   32.3,   34.8,   16. ,    9.7],\n",
    "       [ 300. ,   31.7,   34. ,   37.8,   15.1,   11. ],\n",
    "       [ 300. ,   32.7,   35. ,   38.8,   15.3,   11.3],\n",
    "       [ 300. ,   34.8,   37.3,   39.8,   15.8,   10.1],\n",
    "       [ 430. ,   35.5,   38. ,   40.5,   18. ,   11.3],\n",
    "       [ 345. ,   36. ,   38.5,   41. ,   15.6,    9.7],\n",
    "       [ 456. ,   40. ,   42.5,   45.5,   16. ,    9.5],\n",
    "       [ 510. ,   40. ,   42.5,   45.5,   15. ,    9.8],\n",
    "       [ 540. ,   40.1,   43. ,   45.8,   17. ,   11.2],\n",
    "       [ 500. ,   42. ,   45. ,   48. ,   14.5,   10.2],\n",
    "       [ 567. ,   43.2,   46. ,   48.7,   16. ,   10. ],\n",
    "       [ 770. ,   44.8,   48. ,   51.2,   15. ,   10.5],\n",
    "       [ 950. ,   48.3,   51.7,   55.1,   16.2,   11.2],\n",
    "       [1250. ,   52. ,   56. ,   59.7,   17.9,   11.7],\n",
    "       [1600. ,   56. ,   60. ,   64. ,   15. ,    9.6],\n",
    "       [1550. ,   56. ,   60. ,   64. ,   15. ,    9.6],\n",
    "       [1650. ,   59. ,   63.4,   68. ,   15.9,   11. ]]"
   ]
  },
  {
   "cell_type": "code",
   "execution_count": 6,
   "metadata": {},
   "outputs": [
    {
     "data": {
      "text/plain": [
       "Pipeline(memory=None,\n",
       "         steps=[('standardscaler',\n",
       "                 StandardScaler(copy=True, with_mean=True, with_std=True)),\n",
       "                ('pca',\n",
       "                 PCA(copy=True, iterated_power='auto', n_components=None,\n",
       "                     random_state=None, svd_solver='auto', tol=0.0,\n",
       "                     whiten=False))],\n",
       "         verbose=False)"
      ]
     },
     "execution_count": 6,
     "metadata": {},
     "output_type": "execute_result"
    }
   ],
   "source": [
    "# Fit the pipeline to 'samples'\n",
    "pipeline.fit(samples)"
   ]
  },
  {
   "cell_type": "code",
   "execution_count": 7,
   "metadata": {},
   "outputs": [
    {
     "data": {
      "image/png": "[encoded data removed]",
      "text/plain": [
       "<Figure size 432x288 with 1 Axes>"
      ]
     },
     "metadata": {
      "needs_background": "light"
     },
     "output_type": "display_data"
    }
   ],
   "source": [
    "# Plot the explained variances\n",
    "features = range(pca.n_components_)\n",
    "plt.bar(features, pca.explained_variance_)\n",
    "plt.xlabel('PCA feature')\n",
    "plt.ylabel('variance')\n",
    "plt.xticks(features)\n",
    "plt.show()"
   ]
  },
  {
   "cell_type": "code",
   "execution_count": null,
   "metadata": {},
   "outputs": [],
   "source": []
  }
 ],
 "metadata": {
  "kernelspec": {
   "display_name": "Python 3",
   "language": "python",
   "name": "python3"
  },
  "language_info": {
   "codemirror_mode": {
    "name": "ipython",
    "version": 3
   },
   "file_extension": ".py",
   "mimetype": "text/x-python",
   "name": "python",
   "nbconvert_exporter": "python",
   "pygments_lexer": "ipython3",
   "version": "3.7.3"
  }
 },
 "nbformat": 4,
 "nbformat_minor": 2
}
